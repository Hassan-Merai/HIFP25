{
 "cells": [
  {
   "cell_type": "code",
   "execution_count": null,
   "id": "a0bf0d11",
   "metadata": {},
   "outputs": [],
   "source": [
    "# Import Librarys\n",
    "import dask.dataframe as dd\n",
    "import pandas as pd"
   ]
  },
  {
   "cell_type": "code",
   "execution_count": 3,
   "id": "57899b6e",
   "metadata": {},
   "outputs": [],
   "source": [
    "# Function for loading merged and cleaned data\n",
    "def load_merged_data():\n",
    "    \"\"\"\n",
    "    Load all merged data from S3.\n",
    "    \"\"\"\n",
    "    merged_dtypes = {\n",
    "    'ClaimID': 'object',\n",
    "    'ClaimStartDt': 'object',\n",
    "    'ClaimEndDt': 'object',\n",
    "    'Provider' : 'object',\n",
    "    'InscClaimAmtReimbursed' : 'float64',\n",
    "    'AttendingPhysician' :'object',\n",
    "    'OperatingPhysician' :'object',\n",
    "    'OtherPhysician' :'object',\n",
    "    'AdmissionDt'  :'object',\n",
    "    'ClmAdmitDiagnosisCode' :'object',\n",
    "    'DeductibleAmtPaid' :'float64',\n",
    "    'DischargeDt' :'object',\n",
    "    'ClmAdmitDiagnosisCode': 'object',\n",
    "    'ClmDiagnosisCode_1': 'object',\n",
    "    'ClmDiagnosisCode_2': 'object',\n",
    "    'ClmDiagnosisCode_3': 'object',\n",
    "    'ClmDiagnosisCode_4': 'object',\n",
    "    'ClmDiagnosisCode_5': 'object',\n",
    "    'ClmDiagnosisCode_6': 'object',\n",
    "    'ClmDiagnosisCode_7': 'object',\n",
    "    'ClmDiagnosisCode_8': 'object',\n",
    "    'ClmDiagnosisCode_9': 'object',\n",
    "    'ClmDiagnosisCode_10': 'object',\n",
    "    'ClmProcedureCode_1' : 'object',\n",
    "    'ClmProcedureCode_2' : 'object',\n",
    "    'ClmProcedureCode_3' : 'object',\n",
    "    'ClmProcedureCode_4' : 'object',\n",
    "    'ClmProcedureCode_5' : 'object',\n",
    "    'ClmProcedureCode_6' : 'object',\n",
    "    'DiagnosisGroupCode': 'object'\n",
    "    }\n",
    "    date_columns_in = ['ClaimStartDt', 'ClaimEndDt', 'AdmissionDt', 'DischargeDt']\n",
    "    clean_path = \"s3://medicare-fraud-data-25-05-2025/clean/\"\n",
    "    df_train = dd.read_csv(clean_path+\"train_full/*.csv\",parse_dates=date_columns_in, dtype=merged_dtypes)\n",
    "    df_test = dd.read_csv(clean_path+\"test_full/*.csv\", parse_dates=date_columns_in, dtype=merged_dtypes)\n",
    "    print(\"Data loaded successfully\")\n",
    "    \n",
    "    return (df_train, df_test)"
   ]
  },
  {
   "cell_type": "code",
   "execution_count": 4,
   "id": "174d9589",
   "metadata": {},
   "outputs": [],
   "source": [
    "# Function for converting Dates\n",
    "def convert_dates(df):\n",
    "    \"\"\"\n",
    "    Convert date columns to datetime format.\n",
    "    \"\"\"\n",
    "    date_columns_in = ['ClaimStartDt', 'ClaimEndDt', 'AdmissionDt', 'DischargeDt']\n",
    "    for col in date_columns_in:\n",
    "        df[col] = dd.to_datetime(df[col], errors='coerce')\n",
    "    return df"
   ]
  },
  {
   "cell_type": "code",
   "execution_count": null,
   "id": "64d121ca",
   "metadata": {},
   "outputs": [],
   "source": [
    "def revert_dates(df):\n",
    "    \"\"\"\n",
    "    Konvertiert Datetime-Spalten zurück in Strings im ISO-Format (YYYY-MM-DD).\n",
    "    \"\"\"\n",
    "    date_columns_in = ['ClaimStartDt', 'ClaimEndDt', 'AdmissionDt', 'DischargeDt']\n",
    "    for col in date_columns_in:\n",
    "        # Prüfen, ob Spalte im DataFrame existiert und vom Datetime-Typ ist\n",
    "        if col in df.columns:\n",
    "            df[col] = df[col].dt.strftime('%Y-%m-%d')\n",
    "    return df\n"
   ]
  },
  {
   "cell_type": "code",
   "execution_count": 5,
   "id": "306b5618",
   "metadata": {},
   "outputs": [
    {
     "name": "stdout",
     "output_type": "stream",
     "text": [
      "Data loaded successfully\n"
     ]
    }
   ],
   "source": [
    "# Loading DataSets\n",
    "df_train, df_test = load_merged_data()"
   ]
  },
  {
   "cell_type": "code",
   "execution_count": 6,
   "id": "9ef61446",
   "metadata": {},
   "outputs": [
    {
     "data": {
      "text/plain": [
       "BeneID                             string[pyarrow]\n",
       "ClaimID                            string[pyarrow]\n",
       "ClaimStartDt                       string[pyarrow]\n",
       "ClaimEndDt                         string[pyarrow]\n",
       "Provider                           string[pyarrow]\n",
       "InscClaimAmtReimbursed                     float64\n",
       "AttendingPhysician                 string[pyarrow]\n",
       "OperatingPhysician                 string[pyarrow]\n",
       "OtherPhysician                     string[pyarrow]\n",
       "AdmissionDt                        string[pyarrow]\n",
       "ClmAdmitDiagnosisCode              string[pyarrow]\n",
       "DeductibleAmtPaid                          float64\n",
       "DischargeDt                        string[pyarrow]\n",
       "DiagnosisGroupCode                 string[pyarrow]\n",
       "ClmDiagnosisCode_1                 string[pyarrow]\n",
       "ClmDiagnosisCode_2                 string[pyarrow]\n",
       "ClmDiagnosisCode_3                 string[pyarrow]\n",
       "ClmDiagnosisCode_4                 string[pyarrow]\n",
       "ClmDiagnosisCode_5                 string[pyarrow]\n",
       "ClmDiagnosisCode_6                 string[pyarrow]\n",
       "ClmDiagnosisCode_7                 string[pyarrow]\n",
       "ClmDiagnosisCode_8                 string[pyarrow]\n",
       "ClmDiagnosisCode_9                 string[pyarrow]\n",
       "ClmDiagnosisCode_10                string[pyarrow]\n",
       "ClmProcedureCode_1                 string[pyarrow]\n",
       "ClmProcedureCode_2                 string[pyarrow]\n",
       "ClmProcedureCode_3                 string[pyarrow]\n",
       "ClmProcedureCode_4                 string[pyarrow]\n",
       "ClmProcedureCode_5                 string[pyarrow]\n",
       "ClmProcedureCode_6                 string[pyarrow]\n",
       "ClaimDuration                                int64\n",
       "HospitalDuration                           float64\n",
       "DOB                                string[pyarrow]\n",
       "DOD                                string[pyarrow]\n",
       "Gender                                       int64\n",
       "Race                                         int64\n",
       "RenalDiseaseIndicator                        int64\n",
       "State                                        int64\n",
       "County                                       int64\n",
       "ChronicCond_Alzheimer                        int64\n",
       "ChronicCond_Heartfailure                     int64\n",
       "ChronicCond_KidneyDisease                    int64\n",
       "ChronicCond_Cancer                           int64\n",
       "ChronicCond_ObstrPulmonary                   int64\n",
       "ChronicCond_Depression                       int64\n",
       "ChronicCond_Diabetes                         int64\n",
       "ChronicCond_IschemicHeart                    int64\n",
       "ChronicCond_Osteoporasis                     int64\n",
       "ChronicCond_rheumatoidarthritis              int64\n",
       "ChronicCond_stroke                           int64\n",
       "IPAnnualReimbursementAmt                     int64\n",
       "IPAnnualDeductibleAmt                        int64\n",
       "OPAnnualReimbursementAmt                     int64\n",
       "OPAnnualDeductibleAmt                        int64\n",
       "Bene_Age                                     int64\n",
       "Bene_Alive                                   int64\n",
       "PotentialFraud                               int64\n",
       "dtype: object"
      ]
     },
     "execution_count": 6,
     "metadata": {},
     "output_type": "execute_result"
    }
   ],
   "source": [
    "df_train.dtypes"
   ]
  },
  {
   "cell_type": "code",
   "execution_count": 7,
   "id": "d0876db9",
   "metadata": {},
   "outputs": [],
   "source": [
    "# Convert Dates\n",
    "df_train=convert_dates(df_train)\n",
    "df_test=convert_dates(df_test)"
   ]
  },
  {
   "cell_type": "code",
   "execution_count": 8,
   "id": "f3b2aa65",
   "metadata": {},
   "outputs": [],
   "source": [
    "dx_codes = dd.read_csv(\n",
    "    \"s3://icd9cm-bucket-2025/V27LONG_SHORT_DX_110909.csv\",\n",
    "    encoding='latin1',\n",
    "    dtype={'DIAGNOSIS CODE': 'object'}\n",
    ")\n",
    "\n",
    "proc_codes = dd.read_csv(\n",
    "    \"s3://icd9cm-bucket-2025/CMS27_DESC_LONG_SHORT_SG_092709.csv\",\n",
    "    dtype={'PROCEDURE CODE': 'object'}\n",
    ")\n"
   ]
  },
  {
   "cell_type": "code",
   "execution_count": 9,
   "id": "f74b6662",
   "metadata": {},
   "outputs": [
    {
     "data": {
      "text/html": [
       "<div>\n",
       "<style scoped>\n",
       "    .dataframe tbody tr th:only-of-type {\n",
       "        vertical-align: middle;\n",
       "    }\n",
       "\n",
       "    .dataframe tbody tr th {\n",
       "        vertical-align: top;\n",
       "    }\n",
       "\n",
       "    .dataframe thead th {\n",
       "        text-align: right;\n",
       "    }\n",
       "</style>\n",
       "<table border=\"1\" class=\"dataframe\">\n",
       "  <thead>\n",
       "    <tr style=\"text-align: right;\">\n",
       "      <th></th>\n",
       "      <th>DIAGNOSIS CODE</th>\n",
       "      <th>LONG DESCRIPTION</th>\n",
       "      <th>SHORT DESCRIPTION</th>\n",
       "    </tr>\n",
       "  </thead>\n",
       "  <tbody>\n",
       "    <tr>\n",
       "      <th>0</th>\n",
       "      <td>0010</td>\n",
       "      <td>Cholera due to vibrio cholerae</td>\n",
       "      <td>Cholera d/t vib cholerae</td>\n",
       "    </tr>\n",
       "    <tr>\n",
       "      <th>1</th>\n",
       "      <td>0011</td>\n",
       "      <td>Cholera due to vibrio cholerae el tor</td>\n",
       "      <td>Cholera d/t vib el tor</td>\n",
       "    </tr>\n",
       "    <tr>\n",
       "      <th>2</th>\n",
       "      <td>0019</td>\n",
       "      <td>Cholera, unspecified</td>\n",
       "      <td>Cholera NOS</td>\n",
       "    </tr>\n",
       "    <tr>\n",
       "      <th>3</th>\n",
       "      <td>0020</td>\n",
       "      <td>Typhoid fever</td>\n",
       "      <td>Typhoid fever</td>\n",
       "    </tr>\n",
       "    <tr>\n",
       "      <th>4</th>\n",
       "      <td>0021</td>\n",
       "      <td>Paratyphoid fever A</td>\n",
       "      <td>Paratyphoid fever a</td>\n",
       "    </tr>\n",
       "    <tr>\n",
       "      <th>5</th>\n",
       "      <td>0022</td>\n",
       "      <td>Paratyphoid fever B</td>\n",
       "      <td>Paratyphoid fever b</td>\n",
       "    </tr>\n",
       "    <tr>\n",
       "      <th>6</th>\n",
       "      <td>0023</td>\n",
       "      <td>Paratyphoid fever C</td>\n",
       "      <td>Paratyphoid fever c</td>\n",
       "    </tr>\n",
       "    <tr>\n",
       "      <th>7</th>\n",
       "      <td>0029</td>\n",
       "      <td>Paratyphoid fever, unspecified</td>\n",
       "      <td>Paratyphoid fever NOS</td>\n",
       "    </tr>\n",
       "    <tr>\n",
       "      <th>8</th>\n",
       "      <td>0030</td>\n",
       "      <td>Salmonella gastroenteritis</td>\n",
       "      <td>Salmonella enteritis</td>\n",
       "    </tr>\n",
       "    <tr>\n",
       "      <th>9</th>\n",
       "      <td>0031</td>\n",
       "      <td>Salmonella septicemia</td>\n",
       "      <td>Salmonella septicemia</td>\n",
       "    </tr>\n",
       "  </tbody>\n",
       "</table>\n",
       "</div>"
      ],
      "text/plain": [
       "  DIAGNOSIS CODE                       LONG DESCRIPTION  \\\n",
       "0           0010         Cholera due to vibrio cholerae   \n",
       "1           0011  Cholera due to vibrio cholerae el tor   \n",
       "2           0019                   Cholera, unspecified   \n",
       "3           0020                          Typhoid fever   \n",
       "4           0021                    Paratyphoid fever A   \n",
       "5           0022                   Paratyphoid fever B    \n",
       "6           0023                    Paratyphoid fever C   \n",
       "7           0029         Paratyphoid fever, unspecified   \n",
       "8           0030             Salmonella gastroenteritis   \n",
       "9           0031                  Salmonella septicemia   \n",
       "\n",
       "          SHORT DESCRIPTION  \n",
       "0  Cholera d/t vib cholerae  \n",
       "1    Cholera d/t vib el tor  \n",
       "2               Cholera NOS  \n",
       "3             Typhoid fever  \n",
       "4       Paratyphoid fever a  \n",
       "5       Paratyphoid fever b  \n",
       "6       Paratyphoid fever c  \n",
       "7     Paratyphoid fever NOS  \n",
       "8      Salmonella enteritis  \n",
       "9     Salmonella septicemia  "
      ]
     },
     "execution_count": 9,
     "metadata": {},
     "output_type": "execute_result"
    }
   ],
   "source": [
    "dx_codes.head(10)"
   ]
  },
  {
   "cell_type": "code",
   "execution_count": 10,
   "id": "4cbca634",
   "metadata": {},
   "outputs": [],
   "source": [
    "def reshape_icd_columns(df, cols, value_name):\n",
    "    # Die Spalten \"aufschmelzen\", um sie leichter zu validieren\n",
    "    df_long = dd.melt(df, value_vars=cols, value_name=value_name)\n",
    "    df_long = df_long.drop('variable', axis=1)\n",
    "    df_long[value_name] = df_long[value_name].map(normalize_code, meta=(value_name, 'object'))\n",
    "    return df_long\n"
   ]
  },
  {
   "cell_type": "code",
   "execution_count": 11,
   "id": "24e06384",
   "metadata": {},
   "outputs": [
    {
     "data": {
      "text/plain": [
       "0    79678\n",
       "1    71656\n",
       "2    64881\n",
       "3    36401\n",
       "4     2948\n",
       "5    31400\n",
       "6    42490\n",
       "7    11590\n",
       "8    72089\n",
       "9     4271\n",
       "Name: ClmDiagnosisCode_1, dtype: object"
      ]
     },
     "execution_count": 11,
     "metadata": {},
     "output_type": "execute_result"
    }
   ],
   "source": [
    "df_train[\"ClmDiagnosisCode_1\"].head(10)"
   ]
  },
  {
   "cell_type": "code",
   "execution_count": 12,
   "id": "6507a92e",
   "metadata": {},
   "outputs": [
    {
     "ename": "",
     "evalue": "",
     "output_type": "error",
     "traceback": [
      "\u001b[1;31mThe Kernel crashed while executing code in the current cell or a previous cell. \n",
      "\u001b[1;31mPlease review the code in the cell(s) to identify a possible cause of the failure. \n",
      "\u001b[1;31mClick <a href='https://aka.ms/vscodeJupyterKernelCrash'>here</a> for more info. \n",
      "\u001b[1;31mView Jupyter <a href='command:jupyter.viewOutput'>log</a> for further details."
     ]
    }
   ],
   "source": [
    "codes_sample = df_train[\"ClmDiagnosisCode_1\"].head(10)\n",
    "print(codes_sample)\n"
   ]
  },
  {
   "cell_type": "code",
   "execution_count": 13,
   "id": "3e47ea60",
   "metadata": {},
   "outputs": [
    {
     "ename": "",
     "evalue": "",
     "output_type": "error",
     "traceback": [
      "\u001b[1;31mThe Kernel crashed while executing code in the current cell or a previous cell. \n",
      "\u001b[1;31mPlease review the code in the cell(s) to identify a possible cause of the failure. \n",
      "\u001b[1;31mClick <a href='https://aka.ms/vscodeJupyterKernelCrash'>here</a> for more info. \n",
      "\u001b[1;31mView Jupyter <a href='command:jupyter.viewOutput'>log</a> for further details."
     ]
    }
   ],
   "source": [
    "codes_sample = df_train[\"ClmDiagnosisCode_1\"].head(10)  # Dask DataFrame, gibt Dask Series zurück\n",
    "codes_sample_pd = codes_sample.compute()  # Erst jetzt compute auf kleiner Serie"
   ]
  },
  {
   "cell_type": "code",
   "execution_count": 18,
   "id": "3a028b6e",
   "metadata": {},
   "outputs": [
    {
     "ename": "",
     "evalue": "",
     "output_type": "error",
     "traceback": [
      "\u001b[1;31mThe Kernel crashed while executing code in the current cell or a previous cell. \n",
      "\u001b[1;31mPlease review the code in the cell(s) to identify a possible cause of the failure. \n",
      "\u001b[1;31mClick <a href='https://aka.ms/vscodeJupyterKernelCrash'>here</a> for more info. \n",
      "\u001b[1;31mView Jupyter <a href='command:jupyter.viewOutput'>log</a> for further details."
     ]
    }
   ],
   "source": [
    "# 1. Erste 10 Codes aus df_train auswählen (Dask DataFrame -> zuerst compute)\n",
    "codes_sample = df_train[\"ClmDiagnosisCode_1\"].head(10).compute() if hasattr(df_train, \"compute\") else df_train[\"ClmDiagnosisCode_1\"].head(10)\n",
    "\n",
    "# 2. In dx_codes nach diesen Codes filtern\n",
    "valid_codes = dx_codes[dx_codes['normalized_code'].isin(codes_sample)]\n",
    "\n",
    "# 3. Ergebnis anzeigen\n",
    "print(valid_codes)"
   ]
  },
  {
   "cell_type": "code",
   "execution_count": null,
   "id": "94041eba",
   "metadata": {},
   "outputs": [],
   "source": []
  },
  {
   "cell_type": "code",
   "execution_count": 11,
   "id": "ee9428f6",
   "metadata": {},
   "outputs": [],
   "source": [
    "# Sicherstellen, dass die Spalte erzeugt wird\n",
    "def normalize_code(code):\n",
    "    if pd.isna(code):\n",
    "        return ''\n",
    "    return str(code).replace('.', '').strip()\n",
    "\n",
    "dx_codes['normalized_code'] = dx_codes['DIAGNOSIS CODE'].map(normalize_code, meta=('normalized_code', 'object'))\n",
    "proc_codes['normalized_code'] = proc_codes['PROCEDURE CODE'].map(normalize_code, meta=('normalized_code', 'object'))\n"
   ]
  },
  {
   "cell_type": "code",
   "execution_count": 12,
   "id": "ec83dbcd",
   "metadata": {},
   "outputs": [],
   "source": [
    "# Spalten definieren\n",
    "diag_cols = [f'ClmDiagnosisCode_{i}' for i in range(1, 11)]\n",
    "proc_cols = [f'ClmProcedureCode_{i}' for i in range(1, 7)]\n",
    "\n",
    "# Diagnose- & Prozedurcodes extrahieren\n",
    "diagnoses_long = reshape_icd_columns(df_test, diag_cols, 'code')\n",
    "procedures_long = reshape_icd_columns(df_test, proc_cols, 'code')\n",
    "\n",
    "# Nur relevante Referenzcodes vorbereiten\n",
    "dx_ref = dx_codes[['normalized_code']].rename(columns={'normalized_code': 'code'})\n",
    "proc_ref = proc_codes[['normalized_code']].rename(columns={'normalized_code': 'code'})\n",
    "\n",
    "# Validierung durch Join (left join + _merge)\n",
    "valid_diagnoses = diagnoses_long.merge(dx_ref, on='code', how='left', indicator=True)\n",
    "valid_procedures = procedures_long.merge(proc_ref, on='code', how='left', indicator=True)\n",
    "\n",
    "# Ergebnis aggregieren\n",
    "diag_summary = valid_diagnoses['_merge'].value_counts().compute()\n",
    "proc_summary = valid_procedures['_merge'].value_counts().compute()\n",
    "\n",
    "# Anzahl gültiger Codes aus den Referenzlisten\n",
    "total_valid_dx_codes = dx_codes['normalized_code'].nunique().compute()\n",
    "total_valid_proc_codes = proc_codes['normalized_code'].nunique().compute()\n",
    "\n",
    "# Report mit Validierungsstatistiken\n",
    "report = {\n",
    "    'Valid Diagnoses': int(diag_summary.get('both', 0)),\n",
    "    'Invalid Diagnoses': int(diag_summary.get('left_only', 0)),\n",
    "    'Valid Procedures': int(proc_summary.get('both', 0)),\n",
    "    'Invalid Procedures': int(proc_summary.get('left_only', 0)),\n",
    "    'Total Unique Valid Diagnosis Codes (Reference)': int(total_valid_dx_codes),\n",
    "    'Total Unique Valid Procedure Codes (Reference)': int(total_valid_proc_codes)\n",
    "}"
   ]
  },
  {
   "cell_type": "code",
   "execution_count": 73,
   "id": "ee49d44c",
   "metadata": {},
   "outputs": [
    {
     "name": "stdout",
     "output_type": "stream",
     "text": [
      "=== ICD Validation Report ===\n",
      "Valid Diagnoses: 404,086\n",
      "Invalid Diagnoses: 949,834\n",
      "Valid Procedures: 40\n",
      "Invalid Procedures: 812,312\n",
      "Total Unique Valid Diagnosis Codes (Reference): 14,315\n",
      "Total Unique Valid Procedure Codes (Reference): 3,838\n"
     ]
    }
   ],
   "source": [
    "print(\"=== ICD Validation Report ===\")\n",
    "for k, v in report.items():\n",
    "    print(f\"{k}: {v:,}\")\n"
   ]
  },
  {
   "cell_type": "code",
   "execution_count": 13,
   "id": "8f69044d",
   "metadata": {},
   "outputs": [
    {
     "name": "stdout",
     "output_type": "stream",
     "text": [
      "=== ICD Validation Report ===\n",
      "Valid Diagnoses: 404,086\n",
      "Invalid Diagnoses: 949,834\n",
      "Valid Procedures: 40\n",
      "Invalid Procedures: 812,312\n",
      "Total Unique Valid Diagnosis Codes (Reference): 14,315\n",
      "Total Unique Valid Procedure Codes (Reference): 3,838\n"
     ]
    }
   ],
   "source": [
    "print(\"=== ICD Validation Report ===\")\n",
    "for k, v in report.items():\n",
    "    print(f\"{k}: {v:,}\")\n"
   ]
  },
  {
   "cell_type": "code",
   "execution_count": 74,
   "id": "73ea996a",
   "metadata": {},
   "outputs": [],
   "source": [
    "invalid_dx_codes = valid_diagnoses[valid_diagnoses['_merge'] == 'left_only']['code'].dropna().unique().compute()\n"
   ]
  },
  {
   "cell_type": "code",
   "execution_count": 75,
   "id": "654d6948",
   "metadata": {},
   "outputs": [
    {
     "data": {
      "text/plain": [
       "code\n",
       "        948743\n",
       "0080         3\n",
       "0430        12\n",
       "0431        10\n",
       "0449        17\n",
       "1362         1\n",
       "2398        13\n",
       "2740        64\n",
       "2794         4\n",
       "3488        22\n",
       "Name: count, dtype: int64"
      ]
     },
     "execution_count": 75,
     "metadata": {},
     "output_type": "execute_result"
    }
   ],
   "source": [
    "valid_diagnoses[valid_diagnoses['_merge'] == 'left_only']['code'].value_counts().compute().head(10)\n"
   ]
  }
 ],
 "metadata": {
  "kernelspec": {
   "display_name": ".venv",
   "language": "python",
   "name": "python3"
  },
  "language_info": {
   "codemirror_mode": {
    "name": "ipython",
    "version": 3
   },
   "file_extension": ".py",
   "mimetype": "text/x-python",
   "name": "python",
   "nbconvert_exporter": "python",
   "pygments_lexer": "ipython3",
   "version": "3.9.22"
  }
 },
 "nbformat": 4,
 "nbformat_minor": 5
}
