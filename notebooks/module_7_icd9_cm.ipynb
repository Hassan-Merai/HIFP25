{
 "cells": [
  {
   "cell_type": "code",
   "execution_count": null,
   "id": "5e3ab606",
   "metadata": {},
   "outputs": [],
   "source": [
    "# Import Librarys\n",
    "import dask.dataframe as dd\n",
    "import pandas as pd"
   ]
  },
  {
   "cell_type": "code",
   "execution_count": null,
   "id": "f4e1d794",
   "metadata": {},
   "outputs": [],
   "source": [
    "# Function for loading merged and cleaned data\n",
    "def load_merged_data():\n",
    "    \"\"\"\n",
    "    Load all merged data from S3.\n",
    "    \"\"\"\n",
    "    merged_dtypes = {\n",
    "    'ClaimID': 'object',\n",
    "    'ClaimStartDt': 'object',\n",
    "    'ClaimEndDt': 'object',\n",
    "    'Provider' : 'object',\n",
    "    'InscClaimAmtReimbursed' : 'float64',\n",
    "    'AttendingPhysician' :'object',\n",
    "    'OperatingPhysician' :'object',\n",
    "    'OtherPhysician' :'object',\n",
    "    'AdmissionDt'  :'object',\n",
    "    'ClmAdmitDiagnosisCode' :'object',\n",
    "    'DeductibleAmtPaid' :'float64',\n",
    "    'DischargeDt' :'object',\n",
    "    'ClmAdmitDiagnosisCode': 'object',\n",
    "    'ClmDiagnosisCode_1': 'object',\n",
    "    'ClmDiagnosisCode_2': 'object',\n",
    "    'ClmDiagnosisCode_3': 'object',\n",
    "    'ClmDiagnosisCode_4': 'object',\n",
    "    'ClmDiagnosisCode_5': 'object',\n",
    "    'ClmDiagnosisCode_6': 'object',\n",
    "    'ClmDiagnosisCode_7': 'object',\n",
    "    'ClmDiagnosisCode_8': 'object',\n",
    "    'ClmDiagnosisCode_9': 'object',\n",
    "    'ClmDiagnosisCode_10': 'object',\n",
    "    'ClmProcedureCode_1' : 'object',\n",
    "    'ClmProcedureCode_2' : 'object',\n",
    "    'ClmProcedureCode_3' : 'object',\n",
    "    'ClmProcedureCode_4' : 'object',\n",
    "    'ClmProcedureCode_5' : 'object',\n",
    "    'ClmProcedureCode_6' : 'object',\n",
    "    'DiagnosisGroupCode': 'object'\n",
    "    }\n",
    "    date_columns_in = ['ClaimStartDt', 'ClaimEndDt', 'AdmissionDt', 'DischargeDt']\n",
    "    clean_path = \"s3://medicare-fraud-data-25-05-2025/clean/\"\n",
    "    df_train = dd.read_csv(clean_path+\"train_full/*.csv\",parse_dates=date_columns_in, dtype=merged_dtypes)\n",
    "    df_test = dd.read_csv(clean_path+\"test_full/*.csv\", parse_dates=date_columns_in, dtype=merged_dtypes)\n",
    "    print(\"Data loaded successfully\")\n",
    "    \n",
    "    return (df_train, df_test)"
   ]
  },
  {
   "cell_type": "code",
   "execution_count": null,
   "id": "12d18220",
   "metadata": {},
   "outputs": [],
   "source": [
    "# Function for converting Dates\n",
    "def convert_dates(df):\n",
    "    \"\"\"\n",
    "    Convert date columns to datetime format.\n",
    "    \"\"\"\n",
    "    date_columns_in = ['ClaimStartDt', 'ClaimEndDt', 'AdmissionDt', 'DischargeDt']\n",
    "    for col in date_columns_in:\n",
    "        df[col] = dd.to_datetime(df[col], errors='coerce')\n",
    "    return df"
   ]
  },
  {
   "cell_type": "code",
   "execution_count": null,
   "id": "54e85d9f",
   "metadata": {},
   "outputs": [],
   "source": [
    "def revert_dates(df):\n",
    "    \"\"\"\n",
    "    Konvertiert Datetime-Spalten zurück in Strings im ISO-Format (YYYY-MM-DD).\n",
    "    \"\"\"\n",
    "    date_columns_in = ['ClaimStartDt', 'ClaimEndDt', 'AdmissionDt', 'DischargeDt']\n",
    "    for col in date_columns_in:\n",
    "        # Prüfen, ob Spalte im DataFrame existiert und vom Datetime-Typ ist\n",
    "        if col in df.columns:\n",
    "            df[col] = df[col].dt.strftime('%Y-%m-%d')\n",
    "    return df"
   ]
  },
  {
   "cell_type": "code",
   "execution_count": null,
   "id": "2a4cc97e",
   "metadata": {},
   "outputs": [],
   "source": [
    "# Loading DataSets\n",
    "df_train, df_test = load_merged_data()"
   ]
  },
  {
   "cell_type": "code",
   "execution_count": null,
   "id": "53c57896",
   "metadata": {},
   "outputs": [],
   "source": [
    "df_train.dtypes"
   ]
  },
  {
   "cell_type": "code",
   "execution_count": null,
   "id": "b1275481",
   "metadata": {},
   "outputs": [],
   "source": [
    "# Convert Dates\n",
    "df_train=convert_dates(df_train)\n",
    "df_test=convert_dates(df_test)"
   ]
  },
  {
   "cell_type": "code",
   "execution_count": null,
   "id": "94020296",
   "metadata": {},
   "outputs": [],
   "source": [
    "dx_codes = dd.read_csv(\n",
    "    \"s3://icd9cm-bucket-2025/V27LONG_SHORT_DX_110909.csv\",\n",
    "    encoding='latin1',\n",
    "    dtype={'DIAGNOSIS CODE': 'object'}\n",
    ")\n",
    "\n",
    "proc_codes = dd.read_csv(\n",
    "    \"s3://icd9cm-bucket-2025/CMS27_DESC_LONG_SHORT_SG_092709.csv\",\n",
    "    dtype={'PROCEDURE CODE': 'object'}\n",
    ")\n"
   ]
  },
  {
   "cell_type": "code",
   "execution_count": null,
   "id": "95471ab6",
   "metadata": {},
   "outputs": [],
   "source": [
    "dx_codes.head(10)"
   ]
  },
  {
   "cell_type": "code",
   "execution_count": null,
   "id": "bb0c39b6",
   "metadata": {},
   "outputs": [],
   "source": [
    "def reshape_icd_columns(df, cols, value_name):\n",
    "    # Die Spalten \"aufschmelzen\", um sie leichter zu validieren\n",
    "    df_long = dd.melt(df, value_vars=cols, value_name=value_name)\n",
    "    df_long = df_long.drop('variable', axis=1)\n",
    "    df_long[value_name] = df_long[value_name].map(normalize_code, meta=(value_name, 'object'))\n",
    "    return df_long\n"
   ]
  },
  {
   "cell_type": "code",
   "execution_count": null,
   "id": "debaca7e",
   "metadata": {},
   "outputs": [],
   "source": [
    "df_train[\"ClmDiagnosisCode_1\"].head(10)"
   ]
  },
  {
   "cell_type": "code",
   "execution_count": null,
   "id": "34cb5076",
   "metadata": {},
   "outputs": [],
   "source": [
    "codes_sample = df_train[\"ClmDiagnosisCode_1\"].head(10)\n",
    "print(codes_sample)\n"
   ]
  },
  {
   "cell_type": "code",
   "execution_count": null,
   "id": "f31bfd81",
   "metadata": {},
   "outputs": [],
   "source": [
    "codes_sample = df_train[\"ClmDiagnosisCode_1\"].head(10)  # Dask DataFrame, gibt Dask Series zurück\n",
    "codes_sample_pd = codes_sample.compute()  # Erst jetzt compute auf kleiner Serie"
   ]
  },
  {
   "cell_type": "code",
   "execution_count": null,
   "id": "fd921dab",
   "metadata": {},
   "outputs": [],
   "source": [
    "# 1. Erste 10 Codes aus df_train auswählen (Dask DataFrame -> zuerst compute)\n",
    "codes_sample = df_train[\"ClmDiagnosisCode_1\"].head(10).compute() if hasattr(df_train, \"compute\") else df_train[\"ClmDiagnosisCode_1\"].head(10)\n",
    "\n",
    "# 2. In dx_codes nach diesen Codes filtern\n",
    "valid_codes = dx_codes[dx_codes['normalized_code'].isin(codes_sample)]\n",
    "\n",
    "# 3. Ergebnis anzeigen\n",
    "print(valid_codes)"
   ]
  },
  {
   "cell_type": "code",
   "execution_count": null,
   "id": "90cb7521",
   "metadata": {},
   "outputs": [],
   "source": [
    "# Sicherstellen, dass die Spalte erzeugt wird\n",
    "def normalize_code(code):\n",
    "    if pd.isna(code):\n",
    "        return ''\n",
    "    return str(code).replace('.', '').strip()\n",
    "\n",
    "dx_codes['normalized_code'] = dx_codes['DIAGNOSIS CODE'].map(normalize_code, meta=('normalized_code', 'object'))\n",
    "proc_codes['normalized_code'] = proc_codes['PROCEDURE CODE'].map(normalize_code, meta=('normalized_code', 'object'))"
   ]
  },
  {
   "cell_type": "code",
   "execution_count": null,
   "id": "8441f779",
   "metadata": {},
   "outputs": [],
   "source": [
    "# Spalten definieren\n",
    "diag_cols = [f'ClmDiagnosisCode_{i}' for i in range(1, 11)]\n",
    "proc_cols = [f'ClmProcedureCode_{i}' for i in range(1, 7)]\n",
    "\n",
    "# Diagnose- & Prozedurcodes extrahieren\n",
    "diagnoses_long = reshape_icd_columns(df_test, diag_cols, 'code')\n",
    "procedures_long = reshape_icd_columns(df_test, proc_cols, 'code')\n",
    "\n",
    "# Nur relevante Referenzcodes vorbereiten\n",
    "dx_ref = dx_codes[['normalized_code']].rename(columns={'normalized_code': 'code'})\n",
    "proc_ref = proc_codes[['normalized_code']].rename(columns={'normalized_code': 'code'})\n",
    "\n",
    "# Validierung durch Join (left join + _merge)\n",
    "valid_diagnoses = diagnoses_long.merge(dx_ref, on='code', how='left', indicator=True)\n",
    "valid_procedures = procedures_long.merge(proc_ref, on='code', how='left', indicator=True)\n",
    "\n",
    "# Ergebnis aggregieren\n",
    "diag_summary = valid_diagnoses['_merge'].value_counts().compute()\n",
    "proc_summary = valid_procedures['_merge'].value_counts().compute()\n",
    "\n",
    "# Anzahl gültiger Codes aus den Referenzlisten\n",
    "total_valid_dx_codes = dx_codes['normalized_code'].nunique().compute()\n",
    "total_valid_proc_codes = proc_codes['normalized_code'].nunique().compute()\n",
    "\n",
    "# Report mit Validierungsstatistiken\n",
    "report = {\n",
    "    'Valid Diagnoses': int(diag_summary.get('both', 0)),\n",
    "    'Invalid Diagnoses': int(diag_summary.get('left_only', 0)),\n",
    "    'Valid Procedures': int(proc_summary.get('both', 0)),\n",
    "    'Invalid Procedures': int(proc_summary.get('left_only', 0)),\n",
    "    'Total Unique Valid Diagnosis Codes (Reference)': int(total_valid_dx_codes),\n",
    "    'Total Unique Valid Procedure Codes (Reference)': int(total_valid_proc_codes)\n",
    "}"
   ]
  },
  {
   "cell_type": "code",
   "execution_count": null,
   "id": "e874d781",
   "metadata": {},
   "outputs": [],
   "source": [
    "print(\"=== ICD Validation Report ===\")\n",
    "for k, v in report.items():\n",
    "    print(f\"{k}: {v:,}\")\n"
   ]
  },
  {
   "cell_type": "code",
   "execution_count": null,
   "id": "938b03ed",
   "metadata": {},
   "outputs": [],
   "source": [
    "print(\"=== ICD Validation Report ===\")\n",
    "for k, v in report.items():\n",
    "    print(f\"{k}: {v:,}\")\n"
   ]
  },
  {
   "cell_type": "code",
   "execution_count": null,
   "id": "ede7830e",
   "metadata": {},
   "outputs": [],
   "source": [
    "invalid_dx_codes = valid_diagnoses[valid_diagnoses['_merge'] == 'left_only']['code'].dropna().unique().compute()"
   ]
  },
  {
   "cell_type": "code",
   "execution_count": null,
   "id": "e6496b79",
   "metadata": {},
   "outputs": [],
   "source": [
    "valid_diagnoses[valid_diagnoses['_merge'] == 'left_only']['code'].value_counts().compute().head(10)"
   ]
  }
 ],
 "metadata": {
  "language_info": {
   "name": "python"
  }
 },
 "nbformat": 4,
 "nbformat_minor": 5
}
