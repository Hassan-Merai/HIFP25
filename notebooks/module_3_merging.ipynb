{
 "cells": [
  {
   "cell_type": "markdown",
   "id": "775448d5",
   "metadata": {},
   "source": [
    "# module_3_merging\n",
    "\n",
    "This module contains the code for merging everything into one big table"
   ]
  },
  {
   "cell_type": "code",
   "execution_count": null,
   "id": "1fdc22bd",
   "metadata": {
    "vscode": {
     "languageId": "plaintext"
    }
   },
   "outputs": [],
   "source": [
    "# 1. Import Libraries\n",
    "from s3_utils import save_dask_to_s3, load_clean_data\n",
    "import dask.dataframe as dd"
   ]
  },
  {
   "cell_type": "code",
   "execution_count": null,
   "id": "b53398ae",
   "metadata": {
    "vscode": {
     "languageId": "plaintext"
    }
   },
   "outputs": [],
   "source": [
    "# 2. Load the Data"
   ]
  }
 ],
 "metadata": {
  "language_info": {
   "name": "python"
  }
 },
 "nbformat": 4,
 "nbformat_minor": 5
}
