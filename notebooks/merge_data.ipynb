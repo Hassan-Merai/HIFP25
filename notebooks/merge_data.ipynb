{
 "cells": [
  {
   "cell_type": "code",
   "execution_count": 1,
   "id": "185c5fab",
   "metadata": {},
   "outputs": [
    {
     "name": "stdout",
     "output_type": "stream",
     "text": [
      "✅ Common columns: 28\n",
      "✅ Merged inpatient + outpatient shape (approx):\n",
      "(<dask_expr.expr.Scalar: expr=Merge(3590383).size() // 32, dtype=int64>, 32)\n",
      "✅ Final merged shape with beneficiary info (approx):\n",
      "(<dask_expr.expr.Scalar: expr=Merge(1478a82).size() // 56, dtype=int64>, 56)\n",
      "✅ Common columns: 28\n",
      "✅ Merged inpatient + outpatient shape (approx):\n",
      "(<dask_expr.expr.Scalar: expr=Merge(af4d745).size() // 32, dtype=int64>, 32)\n",
      "✅ Final merged shape with beneficiary info (approx):\n",
      "(<dask_expr.expr.Scalar: expr=Merge(7e2afd3).size() // 56, dtype=int64>, 56)\n"
     ]
    }
   ],
   "source": [
    "def load_clean_data():\n",
    "    \"\"\"\n",
    "    Load all clean data from S3.\n",
    "    \"\"\"\n",
    "    inpatient_dtypes = {\n",
    "    'ClaimID': 'object',\n",
    "    'ClaimStartDt': 'object',\n",
    "    'ClaimEndDt': 'object',\n",
    "    'Provider' : 'object',\n",
    "    'InscClaimAmtReimbursed' : 'float64',\n",
    "    'AttendingPhysician' :'object',\n",
    "    'OperatingPhysician' :'object',\n",
    "    'OtherPhysician' :'object',\n",
    "    'AdmissionDt'  :'object',\n",
    "    'ClmAdmitDiagnosisCode' :'object',\n",
    "    'DeductibleAmtPaid' :'float64',\n",
    "    'DischargeDt' :'object',\n",
    "    'ClmAdmitDiagnosisCode': 'object',\n",
    "    'ClmDiagnosisCode_1': 'object',\n",
    "    'ClmDiagnosisCode_2': 'object',\n",
    "    'ClmDiagnosisCode_3': 'object',\n",
    "    'ClmDiagnosisCode_4': 'object',\n",
    "    'ClmDiagnosisCode_5': 'object',\n",
    "    'ClmDiagnosisCode_6': 'object',\n",
    "    'ClmDiagnosisCode_7': 'object',\n",
    "    'ClmDiagnosisCode_8': 'object',\n",
    "    'ClmDiagnosisCode_9': 'object',\n",
    "    'ClmDiagnosisCode_10': 'object',\n",
    "    'DeductibleAmtPaid': 'float64',  # Keeping as float64 as inferred, even if int64 was expected by Dask\n",
    "    'DiagnosisGroupCode': 'object'\n",
    "    }\n",
    "    outpatient_dtypes = {\n",
    "    'ClaimID': 'object',\n",
    "    'ClaimStartDt': 'object',\n",
    "    'ClaimEndDt': 'object',\n",
    "    'Provider' : 'object',\n",
    "    'InscClaimAmtReimbursed' : 'float64',\n",
    "    'AttendingPhysician' :'object',\n",
    "    'OperatingPhysician' :'object',\n",
    "    'OtherPhysician' :'object',\n",
    "    #'AdmissionDt'  :'object',\n",
    "    'ClmAdmitDiagnosisCode' :'object',\n",
    "    'DeductibleAmtPaid' :'float64',\n",
    "    #'DischargeDt' :'object',\n",
    "    'ClmAdmitDiagnosisCode': 'object',\n",
    "    'ClmDiagnosisCode_1': 'object',\n",
    "    'ClmDiagnosisCode_2': 'object',\n",
    "    'ClmDiagnosisCode_3': 'object',\n",
    "    'ClmDiagnosisCode_4': 'object',\n",
    "    'ClmDiagnosisCode_5': 'object',\n",
    "    'ClmDiagnosisCode_6': 'object',\n",
    "    'ClmDiagnosisCode_7': 'object',\n",
    "    'ClmDiagnosisCode_8': 'object',\n",
    "    'ClmDiagnosisCode_9': 'object',\n",
    "    'ClmDiagnosisCode_10': 'object',\n",
    "    'DeductibleAmtPaid': 'float64',  \n",
    "    'DiagnosisGroupCode': 'object'\n",
    "    }\n",
    "\n",
    "    df_train_in = dd.read_csv(\"s3://medicare-fraud-data-25-05-2025/clean/train_inpatient/*.csv\", dtype=inpatient_dtypes)\n",
    "    df_train_out = dd.read_csv(\"s3://medicare-fraud-data-25-05-2025/clean/train_outpatient/*.csv\", dtype=outpatient_dtypes)\n",
    "    df_test_in = dd.read_csv(\"s3://medicare-fraud-data-25-05-2025/clean/test_inpatient/*.csv\", dtype=inpatient_dtypes)\n",
    "    df_test_out = dd.read_csv(\"s3://medicare-fraud-data-25-05-2025/clean/test_outpatient/*.csv\", dtype=outpatient_dtypes)\n",
    "    df_train_bene = dd.read_csv(\"s3://medicare-fraud-data-25-05-2025/clean/train_beneficiary/*.csv\")\n",
    "    df_test_bene = dd.read_csv(\"s3://medicare-fraud-data-25-05-2025/clean/test_beneficiary/*.csv\")\n",
    "    df_train_labels = dd.read_csv(\"s3://medicare-fraud-data-25-05-2025/clean/train_labels/*.csv\")\n",
    "    df_test_labels = dd.read_csv(\"s3://medicare-fraud-data-25-05-2025/clean/test_labels/*.csv\")\n",
    "    \n",
    "    return (df_train_in, df_train_out, df_test_in, df_test_out, df_train_bene, df_test_bene, df_train_labels, df_test_labels)\n",
    "import dask.dataframe as dd\n",
    "(df_train_in, df_train_out, df_test_in, df_test_out, df_train_bene, df_test_bene, df_train_labels, df_test_labels) = load_clean_data()\n",
    "def merge_all_data(df_train_in, df_train_out, df_train_bene, df_train_labels):\n",
    "    \"\"\"\n",
    "    Merge all data from inpatient, outpatient, beneficiary, and labels.\n",
    "    \n",
    "    Returns:\n",
    "        Dask DataFrame: Merged DataFrame containing all relevant data.\n",
    "    \"\"\"\n",
    "    # Load all clean data\n",
    "    \n",
    "    \n",
    "    # Step 1: Identify common columns between inpatient and outpatient\n",
    "    common_cols = [col for col in df_train_in.columns if col in df_train_out.columns]\n",
    "    print(f\"✅ Common columns: {len(common_cols)}\")\n",
    "    \n",
    "    # Step 2: Outer merge inpatient + outpatient on shared columns\n",
    "    df_train_in_out = dd.merge(\n",
    "        df_train_in,\n",
    "        df_train_out,\n",
    "        how='outer',\n",
    "        on=common_cols\n",
    "    )\n",
    "    print(\"✅ Merged inpatient + outpatient shape (approx):\")\n",
    "    print(df_train_in_out.shape)\n",
    "    \n",
    "    # Step 3: Inner merge with beneficiary data on 'BeneID'\n",
    "    df_train_in_out_bene = dd.merge(\n",
    "        df_train_in_out,\n",
    "        df_train_bene,\n",
    "        how='inner',\n",
    "        on='BeneID'\n",
    "    )\n",
    "    print(\"✅ Final merged shape with beneficiary info (approx):\")\n",
    "    print(df_train_in_out_bene.shape)\n",
    "    \n",
    "    # Merge with labels\n",
    "    df_train_full = dd.merge(\n",
    "        df_train_in_out_bene,\n",
    "        df_train_labels,\n",
    "        how='inner',\n",
    "        on='Provider'  # assuming this is the key for labels\n",
    "    )\n",
    "    \n",
    "    return df_train_full\n",
    "df_train_full = merge_all_data(df_train_in, df_train_out, df_train_bene, df_train_labels)\n",
    "df_test_full = merge_all_data(df_test_in, df_test_out, df_test_bene, df_test_labels)"
   ]
  },
  {
   "cell_type": "code",
   "execution_count": 10,
   "id": "5fea42f6",
   "metadata": {},
   "outputs": [
    {
     "name": "stdout",
     "output_type": "stream",
     "text": [
      "Rows: 558211, Columns: 57\n"
     ]
    }
   ],
   "source": [
    "rows, cols = df_train_full.shape\n",
    "rows = rows.compute()  # Dask returns a delayed object for rows\n",
    "print(f\"Rows: {rows}, Columns: {cols}\")\n"
   ]
  },
  {
   "cell_type": "code",
   "execution_count": 12,
   "id": "72d6b0c3",
   "metadata": {},
   "outputs": [
    {
     "data": {
      "text/plain": [
       "np.int64(5410)"
      ]
     },
     "execution_count": 12,
     "metadata": {},
     "output_type": "execute_result"
    }
   ],
   "source": [
    "df_train_full[\"Provider\"].nunique().compute()"
   ]
  },
  {
   "cell_type": "code",
   "execution_count": 14,
   "id": "1d965c4c",
   "metadata": {},
   "outputs": [
    {
     "data": {
      "text/plain": [
       "np.int64(558211)"
      ]
     },
     "execution_count": 14,
     "metadata": {},
     "output_type": "execute_result"
    }
   ],
   "source": [
    "# Unique Claim numbers\n",
    "df_train_full[\"ClaimID\"].nunique().compute()"
   ]
  }
 ],
 "metadata": {
  "kernelspec": {
   "display_name": ".venv",
   "language": "python",
   "name": "python3"
  },
  "language_info": {
   "codemirror_mode": {
    "name": "ipython",
    "version": 3
   },
   "file_extension": ".py",
   "mimetype": "text/x-python",
   "name": "python",
   "nbconvert_exporter": "python",
   "pygments_lexer": "ipython3",
   "version": "3.9.22"
  }
 },
 "nbformat": 4,
 "nbformat_minor": 5
}
